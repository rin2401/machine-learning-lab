{
 "cells": [
  {
   "cell_type": "markdown",
   "metadata": {},
   "source": [
    "# Bài toán đối ngẫu Lagrange\n",
    "$$\\text{min } L^*(\\mathbf{a})=-\\sum_{n=1}^N{a_n} + \\frac{1}{2}\\sum_{n=1}^N\\sum_{m=1}^N{a_n a_m t_n t_m \\mathbf{x}_n\\mathbf{x}_m}$$\n",
    "subject to:\n",
    "$$-a_n \\leq 0$$\n",
    "$$\\sum_{n=1}^N{a_n t_n} = 0 $$\n",
    "\n",
    "## Biến đổi\n",
    "Đặt $\\mathbf{v} = \\left[t_1 \\mathbf{x}_1, t_2 \\mathbf{x}_2, \\dots, t_N \\mathbf{x}_N \\right]; \\mathbf{1} = [1, 1, \\dots, 1]^T$\n",
    "\n",
    "Ta có: \n",
    "$$\\mathbf{a} = [a_1, a_2, \\dots, a_N]^T$$\n",
    "$$\\mathbf{w} = \\sum_{n=1}^N{a_n t_n \\mathbf{x}_n}\n",
    "= \\mathbf{v} \\mathbf{a}\n",
    "$$\n",
    "\n",
    "$$||\\mathbf{w}||^2 \n",
    "= \\mathbf{w}^T \\mathbf{w} \n",
    "= (\\mathbf{v} \\mathbf{a})^T (\\mathbf{v} \\mathbf{a})\n",
    "= \\mathbf{a}^T\\mathbf{v}^T\\mathbf{v}\\mathbf{a}\n",
    "$$\n",
    "\n",
    "$$\n",
    "\\sum_{n=1}^N\\sum_{m=1}^N{a_n a_m t_n t_m \\mathbf{x}_n \\mathbf{x}_m} \n",
    "= ||\\mathbf{w}||^2 \n",
    "= \\mathbf{a}^T\\mathbf{v}^T\\mathbf{v}\\mathbf{a}\n",
    "$$\n",
    "$$\n",
    "\\sum_{n=1}^N{a_n}\n",
    "=  \\mathbf{1}^T\\mathbf{a}\n",
    "$$\n",
    "## Bài toán trở thành:\n",
    "$$\n",
    "\\text{min} L^*(\\mathbf{a}) = -\\mathbf{1}^T\\mathbf{a} + \\frac{1}{2}\\mathbf{a}^T\\mathbf{v}^T\\mathbf{v}\\mathbf{a}\n",
    "$$\n",
    "Điều kiện:\n",
    "$$-\\mathbf{a} \\preceq 0$$\n",
    "$$ \\mathbf{t}\\mathbf{a} = 0$$"
   ]
  },
  {
   "cell_type": "markdown",
   "metadata": {},
   "source": [
    "# Sinh dữ liệu ngẫu nhiên"
   ]
  },
  {
   "cell_type": "code",
   "execution_count": 1,
   "metadata": {},
   "outputs": [
    {
     "name": "stdout",
     "output_type": "stream",
     "text": [
      "(2, 20) (1, 20)\n",
      "[[ 1.  1.  1.  1.  1.  1.  1.  1.  1.  1. -1. -1. -1. -1. -1. -1. -1. -1.\n",
      "  -1. -1.]]\n"
     ]
    }
   ],
   "source": [
    "import numpy as np\n",
    "import matplotlib.pyplot as plt\n",
    "\n",
    "np.random.seed(0)\n",
    "means = [[2, 2], [4, 2]]\n",
    "cov = [[.3, .2], [.2, .3]]\n",
    "N = 10\n",
    "\n",
    "X0 = np.random.multivariate_normal(means[0], cov, N)\n",
    "X1 = np.random.multivariate_normal(means[1], cov, N)\n",
    "X = np.concatenate((X0.T, X1.T), axis = 1)\n",
    "y = np.concatenate((np.ones((1, N)), -1*np.ones((1, N))), axis = 1)\n",
    "print(X.shape, y.shape)\n",
    "print(y)"
   ]
  },
  {
   "cell_type": "code",
   "execution_count": 2,
   "metadata": {},
   "outputs": [
    {
     "data": {
      "image/png": "[encoded data removed]",
      "text/plain": [
       "<Figure size 432x288 with 1 Axes>"
      ]
     },
     "metadata": {
      "needs_background": "light"
     },
     "output_type": "display_data"
    }
   ],
   "source": [
    "plt.plot(X0[:, 0], X0[:, 1], 'rs', markersize = 8, alpha = .8)\n",
    "plt.plot(X1[:, 0], X1[:, 1], 'gv', markersize = 8, alpha = .8)\n",
    "plt.axis('equal')\n",
    "plt.ylim(0, 3)\n",
    "plt.xlim(2, 4)\n",
    "plt.xlabel('$x_1$', fontsize = 15)\n",
    "plt.ylabel('$x_2$', fontsize = 15)\n",
    "plt.show()"
   ]
  },
  {
   "cell_type": "markdown",
   "metadata": {},
   "source": [
    "## Sử dụng cvxopt"
   ]
  },
  {
   "cell_type": "code",
   "execution_count": 3,
   "metadata": {},
   "outputs": [
    {
     "name": "stdout",
     "output_type": "stream",
     "text": [
      "(20, 20) (20, 1) (20, 20) (20, 1) (1, 20) (1, 1)\n",
      "lambda = \n",
      " [[ 3.21465359e-10  1.01674891e-09  6.20677419e-10  1.21656732e-09\n",
      "   4.94957590e-08  4.01711994e-09  1.66754895e-09  3.62681022e-09\n",
      "   5.52658952e-10  2.61059703e+00 -1.30580545e-10  4.15948895e-10\n",
      "   5.73175076e-09  1.18291588e-10  2.61059708e+00  2.28225920e-10\n",
      "   1.26707836e-10  5.70849242e-11  1.45274847e-09  3.11622195e-11]]\n"
     ]
    }
   ],
   "source": [
    "from cvxopt import matrix, solvers\n",
    "n = 2*N\n",
    "# min \n",
    "# build P\n",
    "# v_n = t_n*x_n\n",
    "V = np.concatenate((X0.T, -X1.T), axis = 1)\n",
    "# 0.5(v_T.v)*(a_T.a)\n",
    "# P = 2*0.5*v_T*v = v_T*v\n",
    "P = matrix(V.T.dot(V))\n",
    "# build q\n",
    "# -a*X\n",
    "# q = -X\n",
    "q = matrix(-np.ones((n, 1)))\n",
    "# build A, b, G, h \n",
    "# -a_n <= 0 \n",
    "# G = -eye(n)\n",
    "# h = zeros(n)\n",
    "G = matrix(-np.eye(n))\n",
    "h = matrix(np.zeros((n, 1)))\n",
    "# sum(a_n*y_n) = 0\n",
    "# A = y\n",
    "# b = 0\n",
    "A = matrix(y)\n",
    "b = matrix(np.zeros((1, 1))) \n",
    "solvers.options['show_progress'] = False\n",
    "sol = solvers.qp(P, q, G, h, A, b)\n",
    "print(P.size, q.size, G.size, h.size, A.size, b.size)\n",
    "lambd = np.array(sol['x'])\n",
    "print('lambda = \\n', lambd.T)"
   ]
  },
  {
   "cell_type": "code",
   "execution_count": 4,
   "metadata": {},
   "outputs": [
    {
     "name": "stdout",
     "output_type": "stream",
     "text": [
      "w =  [[-2.27279643  0.23577738]]\n",
      "b =  5.23426716980929\n"
     ]
    }
   ],
   "source": [
    "support = np.where(lambd > 1e-6)[0]\n",
    "\n",
    "V_support = V[:, support]\n",
    "X_support = X[:, support]\n",
    "y_support = y[:, support]\n",
    "lambd_support = lambd[support]\n",
    "# calculate w and b\n",
    "w = V_support.dot(lambd_support)\n",
    "b = np.mean(y_support.T - w.T.dot(X_support))\n",
    "\n",
    "print('w = ', w.T)\n",
    "print('b = ', b)"
   ]
  },
  {
   "cell_type": "code",
   "execution_count": 5,
   "metadata": {
    "scrolled": true
   },
   "outputs": [
    {
     "data": {
      "image/png": "[encoded data removed]",
      "text/plain": [
       "<Figure size 432x288 with 1 Axes>"
      ]
     },
     "metadata": {
      "needs_background": "light"
     },
     "output_type": "display_data"
    }
   ],
   "source": [
    "fig, ax = plt.subplots()\n",
    "\n",
    "x1 = np.arange(-10, 10, 0.1)\n",
    "y1 = -w[0, 0]/w[1, 0]*x1 - b/w[1, 0]\n",
    "y2 = -w[0, 0]/w[1, 0]*x1 - (b-1)/w[1, 0]\n",
    "y3 = -w[0, 0]/w[1, 0]*x1 - (b+1)/w[1, 0]\n",
    "plt.plot(x1, y1, 'k', linewidth = 3)\n",
    "plt.plot(x1, y2, 'k')\n",
    "plt.plot(x1, y3, 'k')\n",
    "\n",
    "plt.plot(X0[:, 0], X0[:, 1], 'rs', markersize = 8, alpha = .8)\n",
    "plt.plot(X1[:, 0], X1[:, 1], 'gv', markersize = 8, alpha = .8)\n",
    "plt.axis('equal')\n",
    "plt.ylim(0, 3)\n",
    "plt.xlim(2, 4)\n",
    "\n",
    "# add circles around support vectors \n",
    "for m in support:\n",
    "    circle = plt.Circle((X[0, m], X[1, m] ), 0.1, color='k', fill = False)\n",
    "    ax.add_artist(circle)\n",
    "\n",
    "\n",
    "plt.xlabel('$x_1$', fontsize = 15)\n",
    "plt.ylabel('$x_2$', fontsize = 15)\n",
    "plt.show()"
   ]
  },
  {
   "cell_type": "markdown",
   "metadata": {},
   "source": [
    "## Sử dụng sklearn"
   ]
  },
  {
   "cell_type": "code",
   "execution_count": 6,
   "metadata": {},
   "outputs": [
    {
     "name": "stdout",
     "output_type": "stream",
     "text": [
      "w =  [[-2.27279693  0.23577753]]\n",
      "b =  [5.23426814]\n"
     ]
    }
   ],
   "source": [
    "from sklearn.svm import SVC\n",
    "\n",
    "clf = SVC(kernel = 'linear', C = 1e5) # just a big number \n",
    "y = y.reshape((2*N,))\n",
    "clf.fit(X.T, y) # each sample is one row\n",
    "\n",
    "w = clf.coef_\n",
    "b = clf.intercept_\n",
    "print('w = ', w)\n",
    "print('b = ', b)"
   ]
  },
  {
   "cell_type": "markdown",
   "metadata": {},
   "source": [
    "# Tính tay cho 3 điểm"
   ]
  },
  {
   "cell_type": "code",
   "execution_count": 7,
   "metadata": {},
   "outputs": [
    {
     "name": "stdout",
     "output_type": "stream",
     "text": [
      "(2, 3)\n",
      "[[ 1.  1. -1.]]\n"
     ]
    }
   ],
   "source": [
    "X0 = np.array([[1.0,1.0],[2.0,2.0]])\n",
    "X1 = np.array([[0.0,3.0]])\n",
    "X = np.concatenate((X0.T, X1.T), axis = 1)\n",
    "y = np.array([[1.0,1.0,-1.0]])\n",
    "print(X.shape)\n",
    "print(y)"
   ]
  },
  {
   "cell_type": "code",
   "execution_count": 8,
   "metadata": {},
   "outputs": [
    {
     "data": {
      "image/png": "[encoded data removed]",
      "text/plain": [
       "<Figure size 432x288 with 1 Axes>"
      ]
     },
     "metadata": {
      "needs_background": "light"
     },
     "output_type": "display_data"
    }
   ],
   "source": [
    "plt.plot(X0[:, 0], X0[:, 1], 'rs', markersize = 8, alpha = .8)\n",
    "plt.plot(X1[:, 0], X1[:, 1], 'gv', markersize = 8, alpha = .8)\n",
    "plt.axis('equal')\n",
    "plt.ylim(-1, 6)\n",
    "plt.xlim(-1, 6)\n",
    "plt.xlabel('$x_1$', fontsize = 15)\n",
    "plt.ylabel('$x_2$', fontsize = 15)\n",
    "plt.show()"
   ]
  },
  {
   "cell_type": "markdown",
   "metadata": {},
   "source": [
    "## Tính tay\n",
    "\n",
    "Dữ liệu:\n",
    "$$\n",
    "x_1 = [1,1]^T, t_1=1\n",
    "$$\n",
    "$$\n",
    "x_2 = [2,2]^T, t_2=1\n",
    "$$\n",
    "$$\n",
    "x_3 = [0,3]^T, t_3=-1\n",
    "$$\n",
    "$$a = [a_1, a_2, a_3]^T $$\n",
    "\n",
    "Bài toán:\n",
    "$$\\text{min }L^*(\\mathbf{a})\n",
    "=-\\sum_{n=1}^N{a_n} + \\frac{1}{2}\\sum_{n=1}^N\\sum_{m=1}^N{a_n a_m t_n t_m \\mathbf{x}_n \\mathbf{x}_m}\n",
    "$$\n",
    "\n",
    "Điều kiện:\n",
    "$$\\sum_{n=1}^N{a_n t_n} = 0 $$\n",
    "$$-a_n \\leq 0$$\n",
    "Ta đặt: \n",
    "$$S = L^*(\\mathbf{a}) + c\\sum_{n=1}^N{a_n t_n}$$\n",
    "$$\\mathbf{v} = [t_1\\mathbf{x_1}, t_2\\mathbf{x_2}, t_3\\mathbf{x_3}] \\Rightarrow v_1 = [1,1]^T; v_2 = [2,2]^T; v_3 = [0,-3]^T$$\n",
    "Đạo hàm:\n",
    "$$\n",
    "\\frac{\\partial S}{\\partial a_1} \n",
    "= -1 + \\frac{1}{2}(2a_1 v_1 \\cdot v_1 + 2a_2 v_1 \\cdot v_2 + 2a_3 v_1 \\cdot v_3) + c\\\\\n",
    "= -1 + 2a_1 + 4a_2 -3a_3 + c = 0 \\\\\n",
    "$$\n",
    "$$\n",
    "\\frac{\\partial S}{\\partial a_2} \n",
    "= -1 + \\frac{1}{2}(2a_2 v_2 \\cdot v_2 + 2a_1 v_2 \\cdot v_1 + 2a_3 v_2 \\cdot v_3) + c\\\\\n",
    "= -1 + 8a_2 + 4a_1 -6a_3 + c = 0\\\\\n",
    "$$\n",
    "$$\n",
    "\\frac{\\partial S}{\\partial a_3} \n",
    "= -1 + \\frac{1}{2}(2a_3 v_3 \\cdot v_3 + 2a_2 v_3 \\cdot v_2 + 2a_1 v_3 \\cdot v_1) - c\\\\\n",
    "= -1 + 9a_3 - 6a_2 -3a_1 - c = 0\\\\\n",
    "$$\n",
    "$$\n",
    "\\frac{\\partial S}{\\partial c} \n",
    "= a_1 + a_2 - a_3 = 0\n",
    "$$\n",
    "Giải hệ: \n",
    "$$\n",
    "a_1 = 2/9=0.22222;\n",
    "a_2 = 2/9=0.22222;\n",
    "a_3 = 4/9=0.44444\n",
    "$$\n",
    "Tính w, b:\n",
    "$$\n",
    "\\mathbf{w} = \\sum_{n=1}^N{a_n t_n \\mathbf{x}_n} \n",
    "= [2/3, -2/3]^T\n",
    "= [0.66667, -0.66667]^T\n",
    "$$\n",
    "$$\n",
    "b = \\frac{1}{N}\\sum_{n=1}^N{t_n - \\mathbf{w}^T \\mathbf{x}_n} \n",
    "= \\frac{1}{3}((1-0) + (1-0) + (-1+2)) \n",
    "= 1\n",
    "$$"
   ]
  },
  {
   "cell_type": "markdown",
   "metadata": {},
   "source": [
    "## Sử dụng cvxopt"
   ]
  },
  {
   "cell_type": "code",
   "execution_count": 9,
   "metadata": {},
   "outputs": [
    {
     "name": "stdout",
     "output_type": "stream",
     "text": [
      "lambda = \n",
      " [[0.22222222 0.22222222 0.44444444]]\n"
     ]
    }
   ],
   "source": [
    "from cvxopt import matrix, solvers\n",
    "n = 3\n",
    "V = np.concatenate((X0.T, -X1.T), axis = 1)\n",
    "P = matrix(V.T.dot(V))\n",
    "q = matrix(-np.ones((n, 1)))\n",
    "\n",
    "G = matrix(-np.eye(n))\n",
    "h = matrix(np.zeros((n, 1)))\n",
    "\n",
    "A = matrix(y)\n",
    "b = matrix(np.zeros((1, 1))) \n",
    "solvers.options['show_progress'] = False\n",
    "sol = solvers.qp(P, q, G, h, A, b)\n",
    "\n",
    "lambd = np.array(sol['x'])\n",
    "print('lambda = \\n', lambd.T)"
   ]
  },
  {
   "cell_type": "code",
   "execution_count": 11,
   "metadata": {},
   "outputs": [
    {
     "name": "stdout",
     "output_type": "stream",
     "text": [
      "w =  [[ 0.66666667 -0.66666667]]\n",
      "b =  0.9999999988100381\n",
      "Khoảng cách margin: 2.121320347346079 2.121320347346079\n"
     ]
    }
   ],
   "source": [
    "support = np.where(lambd > 1e-6)[0]\n",
    "\n",
    "V_support = V[:, support]\n",
    "X_support = X[:, support]\n",
    "y_support = y[:, support]\n",
    "lambd_support = lambd[support]\n",
    "# calculate w and b\n",
    "w = V_support.dot(lambd_support)\n",
    "b = np.mean(y_support.T - w.T.dot(X_support))\n",
    "\n",
    "print('w = ', w.T)\n",
    "print('b = ', b)\n",
    "print('Khoảng cách margin:', 1/np.sqrt(w[0,0]**2+w[1,0]**2), 1/np.linalg.norm(w))"
   ]
  },
  {
   "cell_type": "code",
   "execution_count": null,
   "metadata": {},
   "outputs": [],
   "source": [
    "fig, ax = plt.subplots()\n",
    "\n",
    "x1 = np.arange(-10, 10, 0.1)\n",
    "y1 = -w[0, 0]/w[1, 0]*x1 - b/w[1, 0]\n",
    "y2 = -w[0, 0]/w[1, 0]*x1 - (b-1)/w[1, 0]\n",
    "y3 = -w[0, 0]/w[1, 0]*x1 - (b+1)/w[1, 0]\n",
    "plt.plot(x1, y1, 'k', linewidth = 3)\n",
    "plt.plot(x1, y2, 'k')\n",
    "plt.plot(x1, y3, 'k')\n",
    "\n",
    "plt.plot(X0[:, 0], X0[:, 1], 'rs', markersize = 8, alpha = .8)\n",
    "plt.plot(X1[:, 0], X1[:, 1], 'gv', markersize = 8, alpha = .8)\n",
    "plt.axis('equal')\n",
    "plt.ylim(-1, 6)\n",
    "plt.xlim(-1, 6)\n",
    "\n",
    "# add circles around support vectors \n",
    "for m in support:\n",
    "    circle = plt.Circle((X[0, m], X[1, m] ), 0.2, color='k', fill = False)\n",
    "    ax.add_artist(circle)\n",
    "\n",
    "\n",
    "plt.xlabel('$x_1$', fontsize = 15)\n",
    "plt.ylabel('$x_2$', fontsize = 15)\n",
    "plt.show()"
   ]
  },
  {
   "cell_type": "markdown",
   "metadata": {},
   "source": [
    "## Sử dụng sklearn"
   ]
  },
  {
   "cell_type": "code",
   "execution_count": null,
   "metadata": {},
   "outputs": [],
   "source": [
    "from sklearn.svm import SVC\n",
    "n=3\n",
    "clf = SVC(kernel = 'linear', C = 1e5) # just a big number \n",
    "y = y.reshape((n,))\n",
    "clf.fit(X.T, y) # each sample is one row\n",
    "\n",
    "w = clf.coef_\n",
    "b = clf.intercept_\n",
    "print('w = ', w)\n",
    "print('b = ', b)"
   ]
  },
  {
   "cell_type": "code",
   "execution_count": null,
   "metadata": {},
   "outputs": [],
   "source": []
  }
 ],
 "metadata": {
  "kernelspec": {
   "display_name": "Python 3",
   "language": "python",
   "name": "python3"
  },
  "language_info": {
   "codemirror_mode": {
    "name": "ipython",
    "version": 3
   },
   "file_extension": ".py",
   "mimetype": "text/x-python",
   "name": "python",
   "nbconvert_exporter": "python",
   "pygments_lexer": "ipython3",
   "version": "3.6.6"
  }
 },
 "nbformat": 4,
 "nbformat_minor": 2
}
