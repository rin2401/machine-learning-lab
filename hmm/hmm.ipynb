{
 "cells": [
  {
   "cell_type": "markdown",
   "metadata": {},
   "source": [
    "##  HMM \n",
    "- Bảng mật độ phân phối của quan sát cho mỗi trạng thái E\n",
    "- Bảng mdppxs khi chuyển trạng thái T\n",
    "- Bảng mdppxs chi chọn trạng thái bắt đầu S0 \n",
    "<img src=\"hmm.png\">"
   ]
  },
  {
   "cell_type": "code",
   "execution_count": 14,
   "metadata": {},
   "outputs": [],
   "source": [
    "import numpy as np\n",
    "\n",
    "              #Party #TV  #Pub #Study\n",
    "E = np.array([[0.3, 0.2, 0.4, 0.3 ], #Tired\n",
    "              [0.4, 0.1, 0.2, 0.05], #Hungover\n",
    "              [0.2, 0.2, 0.1, 0.3 ], #Scared\n",
    "              [0.1, 0.5, 0.3, 0.35]  #Fine\n",
    "            ])\n",
    "\n",
    "              #Party #TV  #Pub #Study\n",
    "T = np.array([[0.05, 0.7, 0.05, 0.2 ], #Party\n",
    "              [0.1 , 0.4, 0.3 , 0.2 ], #TV\n",
    "              [0.1 , 0.6, 0.05, 0.25], #Pub\n",
    "              [0.25, 0.3, 0.4 , 0.05]  #Study\n",
    "             ])\n",
    "\n",
    "              #Party #TV  #Pub #Study\n",
    "S0 = np.array([0.25, 0.25, 0.25, 0.25]).T"
   ]
  },
  {
   "cell_type": "markdown",
   "metadata": {},
   "source": [
    "## Forward\n",
    "- Tính được xác suất của dãy quan sát: Tired -> Tired -> Scared"
   ]
  },
  {
   "cell_type": "code",
   "execution_count": 10,
   "metadata": {},
   "outputs": [
    {
     "name": "stdout",
     "output_type": "stream",
     "text": [
      "[0.075 0.05  0.1   0.075]\n"
     ]
    }
   ],
   "source": [
    "#Tired\n",
    "S1 = S0 * E[0]\n",
    "print(S1)"
   ]
  },
  {
   "cell_type": "code",
   "execution_count": 13,
   "metadata": {},
   "outputs": [
    {
     "name": "stdout",
     "output_type": "stream",
     "text": [
      "[0.01125  0.031    0.0215   0.016125]\n"
     ]
    }
   ],
   "source": [
    "#Tired\n",
    "S2 = T.T.dot(S1)*E[0]\n",
    "print(S2)"
   ]
  },
  {
   "cell_type": "code",
   "execution_count": 12,
   "metadata": {},
   "outputs": [
    {
     "name": "stdout",
     "output_type": "stream",
     "text": [
      "[0.00196875 0.0076025  0.00173875 0.00438938]\n"
     ]
    }
   ],
   "source": [
    "#Scared\n",
    "S3 = T.T.dot(S2)*E[2]\n",
    "print(S3)"
   ]
  },
  {
   "cell_type": "markdown",
   "metadata": {},
   "source": [
    "## Viterbi\n",
    "- Xác định chuỗi trạng thái từ chuỗi quan sát: Tired -> Tired -> Scared"
   ]
  },
  {
   "cell_type": "code",
   "execution_count": null,
   "metadata": {},
   "outputs": [],
   "source": []
  }
 ],
 "metadata": {
  "kernelspec": {
   "display_name": "Python 3",
   "language": "python",
   "name": "python3"
  },
  "language_info": {
   "codemirror_mode": {
    "name": "ipython",
    "version": 3
   },
   "file_extension": ".py",
   "mimetype": "text/x-python",
   "name": "python",
   "nbconvert_exporter": "python",
   "pygments_lexer": "ipython3",
   "version": "3.6.6"
  }
 },
 "nbformat": 4,
 "nbformat_minor": 2
}
